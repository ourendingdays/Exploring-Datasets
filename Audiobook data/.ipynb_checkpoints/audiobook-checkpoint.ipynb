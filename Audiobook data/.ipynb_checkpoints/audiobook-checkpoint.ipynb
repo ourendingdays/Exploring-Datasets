{
 "cells": [
  {
   "cell_type": "markdown",
   "metadata": {},
   "source": [
    "## This dataset was gathered from Auidobook app, covering inputs such as:\n",
    "    - id\n",
    "    - book length in minutes overall\n",
    "    - book length in minutes average\n",
    "    - price overall\n",
    "    - price average\n",
    "    - review (did the customer left one or not) - values of 0 or 1\n",
    "    - review 10/10 (satisfaction of a review with the book) - here we will propagate avarage values because some values are missing (this feature is related to 'review' - if  revies wasn't left, no satisfaction rate can be presented, thus making missing values)\n",
    "    - minutes listened\n",
    "    - completion (did the book was listened to the end, etc.)\n",
    "    - support requests\n",
    "    - last visited minus purchased date\n",
    "    - targets (will customer return again or not) - our target Y - values of 0 or 1"
   ]
  },
  {
   "cell_type": "markdown",
   "metadata": {},
   "source": [
    "### All needed imports"
   ]
  },
  {
   "cell_type": "code",
   "execution_count": 28,
   "metadata": {},
   "outputs": [
    {
     "name": "stderr",
     "output_type": "stream",
     "text": [
      "/Library/Frameworks/Python.framework/Versions/3.7/lib/python3.7/importlib/_bootstrap.py:219: RuntimeWarning: numpy.ufunc size changed, may indicate binary incompatibility. Expected 216, got 192\n",
      "  return f(*args, **kwds)\n",
      "/Library/Frameworks/Python.framework/Versions/3.7/lib/python3.7/importlib/_bootstrap.py:219: RuntimeWarning: numpy.ufunc size changed, may indicate binary incompatibility. Expected 216, got 192\n",
      "  return f(*args, **kwds)\n",
      "/Library/Frameworks/Python.framework/Versions/3.7/lib/python3.7/importlib/_bootstrap.py:219: RuntimeWarning: numpy.ufunc size changed, may indicate binary incompatibility. Expected 216, got 192\n",
      "  return f(*args, **kwds)\n"
     ]
    }
   ],
   "source": [
    "import numpy as np\n",
    "from sklearn import preprocessing\n",
    "\n",
    "import tensorflow as tf"
   ]
  },
  {
   "cell_type": "markdown",
   "metadata": {},
   "source": [
    "## Data"
   ]
  },
  {
   "cell_type": "code",
   "execution_count": 3,
   "metadata": {},
   "outputs": [],
   "source": [
    "data = np.loadtxt('Audiobooks_data.csv', delimiter = ',')\n",
    "\n",
    "# excluding id column and target column\n",
    "inputs = data[:, 1:-1] "
   ]
  },
  {
   "cell_type": "code",
   "execution_count": 4,
   "metadata": {},
   "outputs": [
    {
     "data": {
      "text/plain": [
       "array([[2.160e+03, 2.160e+03, 1.013e+01, ..., 0.000e+00, 0.000e+00,\n",
       "        0.000e+00],\n",
       "       [1.404e+03, 2.808e+03, 6.660e+00, ..., 0.000e+00, 0.000e+00,\n",
       "        1.820e+02],\n",
       "       [3.240e+02, 3.240e+02, 1.013e+01, ..., 0.000e+00, 1.000e+00,\n",
       "        3.340e+02],\n",
       "       ...,\n",
       "       [1.080e+03, 1.080e+03, 6.550e+00, ..., 0.000e+00, 0.000e+00,\n",
       "        2.900e+01],\n",
       "       [2.160e+03, 2.160e+03, 6.140e+00, ..., 0.000e+00, 0.000e+00,\n",
       "        0.000e+00],\n",
       "       [1.620e+03, 1.620e+03, 5.330e+00, ..., 0.000e+00, 0.000e+00,\n",
       "        9.000e+01]])"
      ]
     },
     "execution_count": 4,
     "metadata": {},
     "output_type": "execute_result"
    }
   ],
   "source": [
    "inputs"
   ]
  },
  {
   "cell_type": "code",
   "execution_count": 5,
   "metadata": {},
   "outputs": [
    {
     "data": {
      "text/plain": [
       "(14084, 10)"
      ]
     },
     "execution_count": 5,
     "metadata": {},
     "output_type": "execute_result"
    }
   ],
   "source": [
    "inputs.shape"
   ]
  },
  {
   "cell_type": "markdown",
   "metadata": {},
   "source": [
    "#### Retrieving targets"
   ]
  },
  {
   "cell_type": "code",
   "execution_count": 7,
   "metadata": {},
   "outputs": [
    {
     "data": {
      "text/plain": [
       "(14084,)"
      ]
     },
     "execution_count": 7,
     "metadata": {},
     "output_type": "execute_result"
    }
   ],
   "source": [
    "targets = data[:, -1]\n",
    "targets.shape"
   ]
  },
  {
   "cell_type": "markdown",
   "metadata": {},
   "source": [
    "### Balancing the dataset\n",
    "Counting the number of targets that are 1 and keeping as many zeros as there ones"
   ]
  },
  {
   "cell_type": "code",
   "execution_count": 8,
   "metadata": {},
   "outputs": [
    {
     "data": {
      "text/plain": [
       "2237"
      ]
     },
     "execution_count": 8,
     "metadata": {},
     "output_type": "execute_result"
    }
   ],
   "source": [
    "number_ofones_targets = int(np.sum(targets))\n",
    "number_ofones_targets"
   ]
  },
  {
   "cell_type": "markdown",
   "metadata": {},
   "source": [
    "#### Keeping only 2237 zero targets to balance the dataset"
   ]
  },
  {
   "cell_type": "code",
   "execution_count": 9,
   "metadata": {},
   "outputs": [],
   "source": [
    "zero_targets_counter = 0\n",
    "indices_to_remove = []"
   ]
  },
  {
   "cell_type": "code",
   "execution_count": 10,
   "metadata": {},
   "outputs": [],
   "source": [
    "for i in range (targets.shape[0]):\n",
    "    if targets[i] == 0:\n",
    "        zero_targets_counter += 1\n",
    "        if zero_targets_counter > number_ofones_targets:\n",
    "            indices_to_remove.append(i) # this thingy will contain all indices we don't need"
   ]
  },
  {
   "cell_type": "markdown",
   "metadata": {},
   "source": [
    "##### delete method 'deletes' an object along an axis "
   ]
  },
  {
   "cell_type": "code",
   "execution_count": 11,
   "metadata": {},
   "outputs": [
    {
     "data": {
      "text/plain": [
       "array([[2.160e+03, 2.160e+03, 1.013e+01, ..., 0.000e+00, 0.000e+00,\n",
       "        0.000e+00],\n",
       "       [1.404e+03, 2.808e+03, 6.660e+00, ..., 0.000e+00, 0.000e+00,\n",
       "        1.820e+02],\n",
       "       [3.240e+02, 3.240e+02, 1.013e+01, ..., 0.000e+00, 1.000e+00,\n",
       "        3.340e+02],\n",
       "       ...,\n",
       "       [2.160e+03, 2.160e+03, 1.013e+01, ..., 2.592e+02, 0.000e+00,\n",
       "        1.400e+01],\n",
       "       [2.160e+03, 2.160e+03, 8.300e+00, ..., 2.592e+02, 0.000e+00,\n",
       "        9.300e+01],\n",
       "       [2.160e+03, 2.160e+03, 8.000e+00, ..., 2.592e+02, 0.000e+00,\n",
       "        2.400e+01]])"
      ]
     },
     "execution_count": 11,
     "metadata": {},
     "output_type": "execute_result"
    }
   ],
   "source": [
    "inputs_balanced = np.delete(inputs, indices_to_remove, axis = 0)\n",
    "inputs_balanced"
   ]
  },
  {
   "cell_type": "code",
   "execution_count": 12,
   "metadata": {},
   "outputs": [
    {
     "data": {
      "text/plain": [
       "(4474, 10)"
      ]
     },
     "execution_count": 12,
     "metadata": {},
     "output_type": "execute_result"
    }
   ],
   "source": [
    "inputs_balanced.shape"
   ]
  },
  {
   "cell_type": "code",
   "execution_count": 13,
   "metadata": {},
   "outputs": [],
   "source": [
    "targets_bal = np.delete(targets, indices_to_remove, axis = 0)"
   ]
  },
  {
   "cell_type": "code",
   "execution_count": 14,
   "metadata": {},
   "outputs": [
    {
     "data": {
      "text/plain": [
       "(4474,)"
      ]
     },
     "execution_count": 14,
     "metadata": {},
     "output_type": "execute_result"
    }
   ],
   "source": [
    "targets_bal.shape"
   ]
  },
  {
   "cell_type": "code",
   "execution_count": 15,
   "metadata": {},
   "outputs": [
    {
     "data": {
      "text/plain": [
       "array([1., 1., 1., ..., 0., 0., 0.])"
      ]
     },
     "execution_count": 15,
     "metadata": {},
     "output_type": "execute_result"
    }
   ],
   "source": [
    "targets_bal"
   ]
  },
  {
   "cell_type": "markdown",
   "metadata": {},
   "source": [
    "### Standardizing (scaling) inputs"
   ]
  },
  {
   "cell_type": "code",
   "execution_count": 16,
   "metadata": {},
   "outputs": [
    {
     "data": {
      "text/plain": [
       "array([ 1.,  1.,  1., ..., -1., -1., -1.])"
      ]
     },
     "execution_count": 16,
     "metadata": {},
     "output_type": "execute_result"
    }
   ],
   "source": [
    "inputs_bal_scaled = preprocessing.scale(targets_bal)\n",
    "inputs_bal_scaled"
   ]
  },
  {
   "cell_type": "markdown",
   "metadata": {},
   "source": [
    "### Shuffling data"
   ]
  },
  {
   "cell_type": "code",
   "execution_count": 17,
   "metadata": {},
   "outputs": [],
   "source": [
    "shuffled_indices = np.arange(inputs_bal_scaled.shape[0])\n",
    "np.random.shuffle(shuffled_indices)"
   ]
  },
  {
   "cell_type": "code",
   "execution_count": 18,
   "metadata": {},
   "outputs": [
    {
     "data": {
      "text/plain": [
       "array([3957, 1435, 1344, ..., 2804, 1420,  379])"
      ]
     },
     "execution_count": 18,
     "metadata": {},
     "output_type": "execute_result"
    }
   ],
   "source": [
    "shuffled_indices"
   ]
  },
  {
   "cell_type": "code",
   "execution_count": 19,
   "metadata": {},
   "outputs": [],
   "source": [
    "inputs_shuffled = inputs_bal_scaled[shuffled_indices]\n",
    "shuffled_targets = targets_bal[shuffled_indices]"
   ]
  },
  {
   "cell_type": "code",
   "execution_count": 20,
   "metadata": {},
   "outputs": [
    {
     "data": {
      "text/plain": [
       "array([-1.,  1.,  1., ..., -1.,  1.,  1.])"
      ]
     },
     "execution_count": 20,
     "metadata": {},
     "output_type": "execute_result"
    }
   ],
   "source": [
    "inputs_shuffled"
   ]
  },
  {
   "cell_type": "markdown",
   "metadata": {},
   "source": [
    "### Splitting the dataset"
   ]
  },
  {
   "cell_type": "code",
   "execution_count": 21,
   "metadata": {},
   "outputs": [],
   "source": [
    "samples_count = shuffled_indices.shape[0]\n",
    "\n",
    "train_samples_count = int(0.8 * samples_count)\n",
    "val_samples_count = int(0.1 * samples_count)\n",
    "test_samples_count = samples_count - train_samples_count - val_samples_count"
   ]
  },
  {
   "cell_type": "code",
   "execution_count": 23,
   "metadata": {},
   "outputs": [
    {
     "data": {
      "text/plain": [
       "(3579, 447, 448, 4474)"
      ]
     },
     "execution_count": 23,
     "metadata": {},
     "output_type": "execute_result"
    }
   ],
   "source": [
    "train_samples_count, val_samples_count, test_samples_count, samples_count"
   ]
  },
  {
   "cell_type": "code",
   "execution_count": 24,
   "metadata": {},
   "outputs": [
    {
     "data": {
      "text/plain": [
       "((3579,), (3579,))"
      ]
     },
     "execution_count": 24,
     "metadata": {},
     "output_type": "execute_result"
    }
   ],
   "source": [
    "train_inputs = inputs_shuffled[:train_samples_count]\n",
    "train_targets = shuffled_targets[:train_samples_count]\n",
    "train_inputs.shape, train_targets.shape"
   ]
  },
  {
   "cell_type": "code",
   "execution_count": 25,
   "metadata": {},
   "outputs": [
    {
     "data": {
      "text/plain": [
       "((447,), (447,))"
      ]
     },
     "execution_count": 25,
     "metadata": {},
     "output_type": "execute_result"
    }
   ],
   "source": [
    "valid_inputs = inputs_shuffled[train_samples_count:train_samples_count + val_samples_count]\n",
    "valid_targets = shuffled_targets[train_samples_count:train_samples_count + val_samples_count]\n",
    "valid_inputs.shape, valid_inputs.shape"
   ]
  },
  {
   "cell_type": "code",
   "execution_count": 26,
   "metadata": {},
   "outputs": [
    {
     "data": {
      "text/plain": [
       "((448,), (448,))"
      ]
     },
     "execution_count": 26,
     "metadata": {},
     "output_type": "execute_result"
    }
   ],
   "source": [
    "test_inputs = inputs_shuffled[train_samples_count + val_samples_count: ]\n",
    "test_targets = shuffled_targets[train_samples_count + val_samples_count: ]\n",
    "test_inputs.shape, test_inputs.shape"
   ]
  },
  {
   "cell_type": "markdown",
   "metadata": {},
   "source": [
    "### Saving the preprocessed dataset"
   ]
  },
  {
   "cell_type": "code",
   "execution_count": 27,
   "metadata": {},
   "outputs": [],
   "source": [
    "np.savez('audiobook_train', inputs = train_inputs, targets = train_targets)\n",
    "np.savez('audiobook_valid', inputs = valid_inputs, targets = valid_targets)\n",
    "np.savez('audiobook_test', inputs = test_inputs, targets = test_targets)"
   ]
  },
  {
   "cell_type": "markdown",
   "metadata": {},
   "source": [
    "### Loading data"
   ]
  },
  {
   "cell_type": "markdown",
   "metadata": {},
   "source": [
    "#### Loading Training set"
   ]
  },
  {
   "cell_type": "code",
   "execution_count": 32,
   "metadata": {
    "scrolled": true
   },
   "outputs": [
    {
     "data": {
      "text/plain": [
       "<numpy.lib.npyio.NpzFile at 0x7f8652765510>"
      ]
     },
     "execution_count": 32,
     "metadata": {},
     "output_type": "execute_result"
    }
   ],
   "source": [
    "npz_train = np.load('audiobook_train.npz')\n",
    "npz_train"
   ]
  },
  {
   "cell_type": "code",
   "execution_count": 35,
   "metadata": {},
   "outputs": [
    {
     "data": {
      "text/plain": [
       "array([-1.,  1.,  1., ...,  1.,  1.,  1.])"
      ]
     },
     "execution_count": 35,
     "metadata": {},
     "output_type": "execute_result"
    }
   ],
   "source": [
    "npz_train['inputs']"
   ]
  },
  {
   "cell_type": "code",
   "execution_count": 37,
   "metadata": {},
   "outputs": [],
   "source": [
    "train_inputs = npz_train['inputs'].astype(np.float)"
   ]
  },
  {
   "cell_type": "code",
   "execution_count": 41,
   "metadata": {},
   "outputs": [],
   "source": [
    "train_targets = npz_train['targets'].astype(np.int)"
   ]
  },
  {
   "cell_type": "code",
   "execution_count": 42,
   "metadata": {},
   "outputs": [
    {
     "data": {
      "text/plain": [
       "((3579,), (3579,))"
      ]
     },
     "execution_count": 42,
     "metadata": {},
     "output_type": "execute_result"
    }
   ],
   "source": [
    "train_inputs.shape, train_targets.shape"
   ]
  },
  {
   "cell_type": "code",
   "execution_count": 43,
   "metadata": {},
   "outputs": [
    {
     "data": {
      "text/plain": [
       "array([0, 1, 1, ..., 1, 1, 1])"
      ]
     },
     "execution_count": 43,
     "metadata": {},
     "output_type": "execute_result"
    }
   ],
   "source": [
    "train_targets"
   ]
  },
  {
   "cell_type": "markdown",
   "metadata": {},
   "source": [
    "#### Loading Validation set"
   ]
  },
  {
   "cell_type": "code",
   "execution_count": 45,
   "metadata": {},
   "outputs": [],
   "source": [
    "npz_val = np.load('audiobook_valid.npz')\n",
    "\n",
    "val_inputs = npz_val['inputs'].astype(np.float)\n",
    "val_targets = npz_val['targets'].astype(np.int)"
   ]
  },
  {
   "cell_type": "code",
   "execution_count": 47,
   "metadata": {},
   "outputs": [
    {
     "data": {
      "text/plain": [
       "((447,),\n",
       " array([0, 0, 1, 1, 1, 1, 1, 0, 0, 0, 0, 0, 0, 1, 1, 1, 0, 1, 1, 1, 1, 0,\n",
       "        1, 1, 0, 0, 0, 0, 0, 1, 1, 0, 1, 1, 1, 1, 0, 0, 0, 0, 1, 0, 0, 0,\n",
       "        1, 0, 1, 0, 0, 1, 0, 1, 1, 1, 0, 1, 0, 0, 0, 0, 1, 1, 0, 0, 0, 0,\n",
       "        1, 1, 1, 1, 0, 1, 1, 0, 1, 0, 1, 0, 0, 0, 1, 0, 1, 0, 0, 1, 1, 1,\n",
       "        1, 1, 0, 0, 0, 1, 0, 1, 0, 0, 0, 1, 1, 0, 1, 0, 1, 0, 0, 1, 1, 0,\n",
       "        0, 0, 1, 1, 0, 0, 1, 1, 0, 0, 0, 0, 0, 1, 0, 0, 0, 0, 1, 0, 0, 1,\n",
       "        1, 0, 0, 1, 1, 1, 1, 1, 1, 0, 0, 1, 1, 0, 0, 1, 0, 0, 0, 1, 1, 1,\n",
       "        1, 0, 0, 0, 0, 0, 1, 1, 0, 1, 0, 1, 1, 0, 0, 1, 0, 0, 1, 1, 1, 1,\n",
       "        0, 1, 1, 1, 1, 1, 0, 0, 0, 1, 1, 0, 0, 0, 1, 1, 1, 1, 0, 1, 1, 1,\n",
       "        0, 1, 1, 1, 1, 0, 0, 1, 1, 0, 1, 1, 1, 0, 0, 0, 0, 1, 0, 0, 1, 0,\n",
       "        0, 1, 1, 0, 0, 0, 0, 1, 1, 1, 0, 1, 1, 1, 1, 0, 1, 1, 1, 1, 1, 1,\n",
       "        0, 1, 0, 1, 0, 0, 1, 0, 1, 0, 0, 0, 1, 0, 1, 0, 0, 1, 0, 1, 1, 1,\n",
       "        0, 0, 0, 1, 1, 1, 0, 1, 0, 0, 1, 1, 1, 0, 1, 1, 1, 1, 0, 1, 0, 1,\n",
       "        1, 1, 1, 1, 1, 0, 0, 0, 0, 1, 0, 0, 0, 1, 1, 0, 1, 1, 0, 1, 1, 1,\n",
       "        1, 1, 1, 0, 0, 0, 0, 1, 0, 1, 1, 1, 0, 0, 1, 0, 0, 0, 0, 1, 1, 1,\n",
       "        1, 0, 0, 1, 1, 0, 1, 0, 1, 1, 1, 1, 0, 0, 1, 0, 1, 0, 1, 0, 0, 1,\n",
       "        0, 1, 0, 1, 1, 0, 0, 0, 1, 0, 1, 1, 0, 1, 1, 1, 1, 0, 0, 1, 0, 1,\n",
       "        0, 1, 1, 0, 0, 1, 1, 1, 1, 1, 0, 1, 1, 1, 0, 0, 1, 0, 1, 0, 1, 1,\n",
       "        0, 0, 1, 0, 1, 1, 0, 1, 1, 0, 0, 1, 0, 0, 1, 0, 0, 0, 1, 0, 1, 1,\n",
       "        1, 1, 0, 0, 0, 0, 1, 1, 1, 0, 1, 0, 0, 1, 1, 1, 0, 1, 0, 0, 1, 0,\n",
       "        0, 0, 0, 0, 1, 1, 0]))"
      ]
     },
     "execution_count": 47,
     "metadata": {},
     "output_type": "execute_result"
    }
   ],
   "source": [
    "val_inputs.shape, val_targets"
   ]
  },
  {
   "cell_type": "markdown",
   "metadata": {},
   "source": [
    "#### Loading Test set"
   ]
  },
  {
   "cell_type": "code",
   "execution_count": 48,
   "metadata": {},
   "outputs": [],
   "source": [
    "npz_test = np.load('audiobook_test.npz')\n",
    "\n",
    "test_inputs = npz_test['inputs'].astype(np.float)\n",
    "test_targets = npz_test['targets'].astype(np.int)"
   ]
  },
  {
   "cell_type": "code",
   "execution_count": 49,
   "metadata": {},
   "outputs": [
    {
     "data": {
      "text/plain": [
       "((448,),\n",
       " array([1, 0, 0, 0, 0, 1, 1, 1, 1, 0, 1, 0, 1, 0, 1, 0, 1, 1, 0, 0, 1, 0,\n",
       "        0, 0, 1, 0, 0, 0, 1, 1, 0, 1, 1, 1, 0, 1, 0, 1, 1, 1, 0, 1, 1, 0,\n",
       "        1, 1, 1, 0, 1, 0, 1, 1, 1, 1, 1, 1, 1, 0, 1, 0, 0, 0, 0, 1, 1, 0,\n",
       "        0, 1, 1, 1, 0, 1, 1, 0, 0, 0, 1, 0, 0, 1, 1, 1, 0, 1, 0, 0, 1, 1,\n",
       "        1, 1, 0, 0, 0, 1, 1, 0, 1, 0, 1, 0, 0, 1, 0, 0, 0, 1, 0, 0, 0, 1,\n",
       "        1, 0, 1, 0, 1, 0, 0, 1, 1, 1, 0, 1, 0, 1, 0, 1, 1, 1, 0, 1, 1, 1,\n",
       "        0, 0, 1, 1, 0, 0, 0, 0, 0, 0, 1, 0, 0, 1, 1, 1, 0, 1, 0, 0, 0, 1,\n",
       "        1, 0, 0, 0, 1, 1, 1, 0, 0, 0, 0, 1, 0, 0, 1, 0, 1, 1, 0, 1, 0, 0,\n",
       "        0, 0, 1, 0, 0, 1, 0, 0, 0, 0, 1, 1, 0, 0, 0, 0, 1, 1, 0, 1, 0, 1,\n",
       "        1, 0, 0, 1, 0, 0, 1, 1, 1, 0, 0, 0, 0, 0, 1, 0, 0, 0, 1, 0, 1, 0,\n",
       "        0, 1, 0, 0, 1, 0, 1, 0, 1, 1, 0, 1, 0, 0, 1, 0, 0, 0, 0, 1, 1, 1,\n",
       "        0, 0, 1, 0, 1, 1, 1, 0, 0, 1, 0, 1, 0, 1, 1, 1, 0, 0, 0, 1, 0, 1,\n",
       "        1, 0, 0, 0, 0, 0, 0, 1, 1, 0, 1, 1, 0, 0, 0, 0, 0, 0, 0, 1, 0, 0,\n",
       "        1, 0, 0, 0, 1, 0, 1, 1, 1, 0, 1, 0, 0, 0, 1, 0, 1, 1, 0, 0, 0, 0,\n",
       "        1, 1, 1, 1, 0, 0, 0, 1, 1, 1, 0, 0, 1, 0, 0, 0, 1, 0, 1, 0, 1, 1,\n",
       "        0, 0, 1, 1, 1, 1, 1, 0, 0, 1, 0, 0, 1, 1, 0, 1, 1, 1, 0, 1, 1, 0,\n",
       "        1, 1, 0, 1, 0, 1, 1, 0, 1, 0, 0, 1, 1, 0, 1, 1, 1, 0, 0, 1, 1, 1,\n",
       "        1, 0, 1, 0, 0, 1, 0, 0, 0, 1, 1, 1, 1, 1, 0, 0, 0, 1, 0, 1, 0, 0,\n",
       "        1, 1, 1, 1, 0, 1, 1, 1, 1, 0, 0, 1, 1, 0, 0, 1, 0, 0, 1, 1, 0, 0,\n",
       "        0, 0, 0, 0, 0, 0, 0, 0, 0, 1, 0, 0, 1, 0, 1, 1, 1, 1, 0, 1, 1, 1,\n",
       "        1, 0, 1, 1, 1, 0, 1, 1]))"
      ]
     },
     "execution_count": 49,
     "metadata": {},
     "output_type": "execute_result"
    }
   ],
   "source": [
    "test_inputs.shape, test_targets"
   ]
  },
  {
   "cell_type": "markdown",
   "metadata": {},
   "source": [
    "## Model"
   ]
  },
  {
   "cell_type": "code",
   "execution_count": 50,
   "metadata": {},
   "outputs": [],
   "source": [
    "input_size = 10\n",
    "output_size = 2\n",
    "hidden_units = 50"
   ]
  },
  {
   "cell_type": "code",
   "execution_count": 54,
   "metadata": {},
   "outputs": [],
   "source": [
    "model = tf.keras.Sequential([\n",
    "    tf.keras.layers.Dense(hidden_units, activation = 'relu'),\n",
    "    tf.keras.layers.Dense(hidden_units, activation = 'relu'),\n",
    "    tf.keras.layers.Dense(output_size, activation = 'softmax')\n",
    "])"
   ]
  },
  {
   "cell_type": "code",
   "execution_count": 55,
   "metadata": {},
   "outputs": [],
   "source": [
    "model.compile(optimizer='adam', loss='sparse_categorical_crossentropy', metrics = ['accuracy'])"
   ]
  },
  {
   "cell_type": "code",
   "execution_count": 56,
   "metadata": {},
   "outputs": [
    {
     "name": "stdout",
     "output_type": "stream",
     "text": [
      "Train on 3579 samples, validate on 447 samples\n",
      "Epoch 1/100\n",
      "3579/3579 [==============================] - 0s 82us/sample - loss: 0.5216 - accuracy: 0.7714 - val_loss: 0.3140 - val_accuracy: 1.0000\n",
      "Epoch 2/100\n",
      "3579/3579 [==============================] - 0s 12us/sample - loss: 0.2124 - accuracy: 1.0000 - val_loss: 0.1095 - val_accuracy: 1.0000\n",
      "Epoch 3/100\n",
      "3579/3579 [==============================] - 0s 13us/sample - loss: 0.0626 - accuracy: 1.0000 - val_loss: 0.0298 - val_accuracy: 1.0000\n",
      "Epoch 4/100\n",
      "3579/3579 [==============================] - 0s 13us/sample - loss: 0.0195 - accuracy: 1.0000 - val_loss: 0.0118 - val_accuracy: 1.0000\n",
      "Epoch 5/100\n",
      "3579/3579 [==============================] - 0s 12us/sample - loss: 0.0088 - accuracy: 1.0000 - val_loss: 0.0062 - val_accuracy: 1.0000\n",
      "Epoch 6/100\n",
      "3579/3579 [==============================] - 0s 12us/sample - loss: 0.0050 - accuracy: 1.0000 - val_loss: 0.0038 - val_accuracy: 1.0000\n",
      "Epoch 7/100\n",
      "3579/3579 [==============================] - 0s 14us/sample - loss: 0.0032 - accuracy: 1.0000 - val_loss: 0.0026 - val_accuracy: 1.0000\n",
      "Epoch 8/100\n",
      "3579/3579 [==============================] - 0s 12us/sample - loss: 0.0022 - accuracy: 1.0000 - val_loss: 0.0019 - val_accuracy: 1.0000\n",
      "Epoch 9/100\n",
      "3579/3579 [==============================] - 0s 13us/sample - loss: 0.0017 - accuracy: 1.0000 - val_loss: 0.0014 - val_accuracy: 1.0000\n",
      "Epoch 10/100\n",
      "3579/3579 [==============================] - 0s 13us/sample - loss: 0.0013 - accuracy: 1.0000 - val_loss: 0.0011 - val_accuracy: 1.0000\n",
      "Epoch 11/100\n",
      "3579/3579 [==============================] - 0s 13us/sample - loss: 0.0010 - accuracy: 1.0000 - val_loss: 8.8872e-04 - val_accuracy: 1.0000\n",
      "Epoch 12/100\n",
      "3579/3579 [==============================] - 0s 13us/sample - loss: 8.2668e-04 - accuracy: 1.0000 - val_loss: 7.3084e-04 - val_accuracy: 1.0000\n",
      "Epoch 13/100\n",
      "3579/3579 [==============================] - 0s 13us/sample - loss: 6.3604e-04 - accuracy: 1.0000 - val_loss: 4.8942e-04 - val_accuracy: 1.0000\n",
      "Epoch 14/100\n",
      "3579/3579 [==============================] - 0s 13us/sample - loss: 4.1962e-04 - accuracy: 1.0000 - val_loss: 3.4883e-04 - val_accuracy: 1.0000\n",
      "Epoch 15/100\n",
      "3579/3579 [==============================] - 0s 14us/sample - loss: 3.1344e-04 - accuracy: 1.0000 - val_loss: 2.7311e-04 - val_accuracy: 1.0000\n",
      "Epoch 16/100\n",
      "3579/3579 [==============================] - 0s 13us/sample - loss: 2.5009e-04 - accuracy: 1.0000 - val_loss: 2.2277e-04 - val_accuracy: 1.0000\n",
      "Epoch 17/100\n",
      "3579/3579 [==============================] - 0s 13us/sample - loss: 2.0624e-04 - accuracy: 1.0000 - val_loss: 1.8644e-04 - val_accuracy: 1.0000\n",
      "Epoch 18/100\n",
      "3579/3579 [==============================] - 0s 13us/sample - loss: 1.7386e-04 - accuracy: 1.0000 - val_loss: 1.5864e-04 - val_accuracy: 1.0000\n",
      "Epoch 19/100\n",
      "3579/3579 [==============================] - 0s 13us/sample - loss: 1.4886e-04 - accuracy: 1.0000 - val_loss: 1.3691e-04 - val_accuracy: 1.0000\n",
      "Epoch 20/100\n",
      "3579/3579 [==============================] - 0s 13us/sample - loss: 1.2907e-04 - accuracy: 1.0000 - val_loss: 1.1946e-04 - val_accuracy: 1.0000\n",
      "Epoch 21/100\n",
      "3579/3579 [==============================] - 0s 13us/sample - loss: 1.1306e-04 - accuracy: 1.0000 - val_loss: 1.0519e-04 - val_accuracy: 1.0000\n",
      "Epoch 22/100\n",
      "3579/3579 [==============================] - 0s 16us/sample - loss: 9.9877e-05 - accuracy: 1.0000 - val_loss: 9.3324e-05 - val_accuracy: 1.0000\n",
      "Epoch 23/100\n",
      "3579/3579 [==============================] - 0s 15us/sample - loss: 8.8885e-05 - accuracy: 1.0000 - val_loss: 8.3397e-05 - val_accuracy: 1.0000\n",
      "Epoch 24/100\n",
      "3579/3579 [==============================] - 0s 14us/sample - loss: 7.9604e-05 - accuracy: 1.0000 - val_loss: 7.4945e-05 - val_accuracy: 1.0000\n",
      "Epoch 25/100\n",
      "3579/3579 [==============================] - 0s 14us/sample - loss: 7.1695e-05 - accuracy: 1.0000 - val_loss: 6.7728e-05 - val_accuracy: 1.0000\n",
      "Epoch 26/100\n",
      "3579/3579 [==============================] - 0s 14us/sample - loss: 6.4911e-05 - accuracy: 1.0000 - val_loss: 6.1455e-05 - val_accuracy: 1.0000\n",
      "Epoch 27/100\n",
      "3579/3579 [==============================] - 0s 13us/sample - loss: 5.9017e-05 - accuracy: 1.0000 - val_loss: 5.6066e-05 - val_accuracy: 1.0000\n",
      "Epoch 28/100\n",
      "3579/3579 [==============================] - 0s 13us/sample - loss: 5.3883e-05 - accuracy: 1.0000 - val_loss: 5.1329e-05 - val_accuracy: 1.0000\n",
      "Epoch 29/100\n",
      "3579/3579 [==============================] - 0s 13us/sample - loss: 4.9377e-05 - accuracy: 1.0000 - val_loss: 4.7123e-05 - val_accuracy: 1.0000\n",
      "Epoch 30/100\n",
      "3579/3579 [==============================] - 0s 13us/sample - loss: 4.5420e-05 - accuracy: 1.0000 - val_loss: 4.3388e-05 - val_accuracy: 1.0000\n",
      "Epoch 31/100\n",
      "3579/3579 [==============================] - 0s 14us/sample - loss: 4.1879e-05 - accuracy: 1.0000 - val_loss: 4.0068e-05 - val_accuracy: 1.0000\n",
      "Epoch 32/100\n",
      "3579/3579 [==============================] - 0s 14us/sample - loss: 3.8731e-05 - accuracy: 1.0000 - val_loss: 3.7102e-05 - val_accuracy: 1.0000\n",
      "Epoch 33/100\n",
      "3579/3579 [==============================] - 0s 14us/sample - loss: 3.5919e-05 - accuracy: 1.0000 - val_loss: 3.4493e-05 - val_accuracy: 1.0000\n",
      "Epoch 34/100\n",
      "3579/3579 [==============================] - 0s 14us/sample - loss: 3.3388e-05 - accuracy: 1.0000 - val_loss: 3.2118e-05 - val_accuracy: 1.0000\n",
      "Epoch 35/100\n",
      "3579/3579 [==============================] - 0s 14us/sample - loss: 3.1112e-05 - accuracy: 1.0000 - val_loss: 2.9924e-05 - val_accuracy: 1.0000\n",
      "Epoch 36/100\n",
      "3579/3579 [==============================] - 0s 13us/sample - loss: 2.9055e-05 - accuracy: 1.0000 - val_loss: 2.7964e-05 - val_accuracy: 1.0000\n",
      "Epoch 37/100\n",
      "3579/3579 [==============================] - 0s 13us/sample - loss: 2.7177e-05 - accuracy: 1.0000 - val_loss: 2.6242e-05 - val_accuracy: 1.0000\n",
      "Epoch 38/100\n",
      "3579/3579 [==============================] - 0s 13us/sample - loss: 2.5472e-05 - accuracy: 1.0000 - val_loss: 2.4578e-05 - val_accuracy: 1.0000\n",
      "Epoch 39/100\n",
      "3579/3579 [==============================] - 0s 12us/sample - loss: 2.3913e-05 - accuracy: 1.0000 - val_loss: 2.3095e-05 - val_accuracy: 1.0000\n",
      "Epoch 40/100\n",
      "3579/3579 [==============================] - 0s 11us/sample - loss: 2.2490e-05 - accuracy: 1.0000 - val_loss: 2.1788e-05 - val_accuracy: 1.0000\n",
      "Epoch 41/100\n",
      "3579/3579 [==============================] - 0s 12us/sample - loss: 2.1178e-05 - accuracy: 1.0000 - val_loss: 2.0538e-05 - val_accuracy: 1.0000\n",
      "Epoch 42/100\n",
      "3579/3579 [==============================] - 0s 12us/sample - loss: 1.9978e-05 - accuracy: 1.0000 - val_loss: 1.9351e-05 - val_accuracy: 1.0000\n",
      "Epoch 43/100\n",
      "3579/3579 [==============================] - 0s 11us/sample - loss: 1.8865e-05 - accuracy: 1.0000 - val_loss: 1.8340e-05 - val_accuracy: 1.0000\n",
      "Epoch 44/100\n",
      "3579/3579 [==============================] - 0s 11us/sample - loss: 1.7838e-05 - accuracy: 1.0000 - val_loss: 1.7329e-05 - val_accuracy: 1.0000\n",
      "Epoch 45/100\n",
      "3579/3579 [==============================] - 0s 12us/sample - loss: 1.6889e-05 - accuracy: 1.0000 - val_loss: 1.6380e-05 - val_accuracy: 1.0000\n",
      "Epoch 46/100\n",
      "3579/3579 [==============================] - 0s 12us/sample - loss: 1.6009e-05 - accuracy: 1.0000 - val_loss: 1.5545e-05 - val_accuracy: 1.0000\n",
      "Epoch 47/100\n",
      "3579/3579 [==============================] - 0s 11us/sample - loss: 1.5193e-05 - accuracy: 1.0000 - val_loss: 1.4773e-05 - val_accuracy: 1.0000\n",
      "Epoch 48/100\n",
      "3579/3579 [==============================] - 0s 11us/sample - loss: 1.4433e-05 - accuracy: 1.0000 - val_loss: 1.4000e-05 - val_accuracy: 1.0000\n",
      "Epoch 49/100\n",
      "3579/3579 [==============================] - 0s 10us/sample - loss: 1.3720e-05 - accuracy: 1.0000 - val_loss: 1.3347e-05 - val_accuracy: 1.0000\n",
      "Epoch 50/100\n",
      "3579/3579 [==============================] - 0s 12us/sample - loss: 1.3062e-05 - accuracy: 1.0000 - val_loss: 1.2751e-05 - val_accuracy: 1.0000\n",
      "Epoch 51/100\n",
      "3579/3579 [==============================] - 0s 11us/sample - loss: 1.2447e-05 - accuracy: 1.0000 - val_loss: 1.2097e-05 - val_accuracy: 1.0000\n",
      "Epoch 52/100\n",
      "3579/3579 [==============================] - 0s 12us/sample - loss: 1.1861e-05 - accuracy: 1.0000 - val_loss: 1.1621e-05 - val_accuracy: 1.0000\n",
      "Epoch 53/100\n"
     ]
    },
    {
     "name": "stdout",
     "output_type": "stream",
     "text": [
      "3579/3579 [==============================] - 0s 12us/sample - loss: 1.1320e-05 - accuracy: 1.0000 - val_loss: 1.1025e-05 - val_accuracy: 1.0000\n",
      "Epoch 54/100\n",
      "3579/3579 [==============================] - 0s 10us/sample - loss: 1.0808e-05 - accuracy: 1.0000 - val_loss: 1.0548e-05 - val_accuracy: 1.0000\n",
      "Epoch 55/100\n",
      "3579/3579 [==============================] - 0s 12us/sample - loss: 1.0328e-05 - accuracy: 1.0000 - val_loss: 1.0133e-05 - val_accuracy: 1.0000\n",
      "Epoch 56/100\n",
      "3579/3579 [==============================] - 0s 10us/sample - loss: 9.8793e-06 - accuracy: 1.0000 - val_loss: 9.6559e-06 - val_accuracy: 1.0000\n",
      "Epoch 57/100\n",
      "3579/3579 [==============================] - 0s 11us/sample - loss: 9.4550e-06 - accuracy: 1.0000 - val_loss: 9.2409e-06 - val_accuracy: 1.0000\n",
      "Epoch 58/100\n",
      "3579/3579 [==============================] - 0s 11us/sample - loss: 9.0561e-06 - accuracy: 1.0000 - val_loss: 8.8833e-06 - val_accuracy: 1.0000\n",
      "Epoch 59/100\n",
      "3579/3579 [==============================] - 0s 10us/sample - loss: 8.6782e-06 - accuracy: 1.0000 - val_loss: 8.5257e-06 - val_accuracy: 1.0000\n",
      "Epoch 60/100\n",
      "3579/3579 [==============================] - 0s 12us/sample - loss: 8.3191e-06 - accuracy: 1.0000 - val_loss: 8.1681e-06 - val_accuracy: 1.0000\n",
      "Epoch 61/100\n",
      "3579/3579 [==============================] - 0s 12us/sample - loss: 7.9840e-06 - accuracy: 1.0000 - val_loss: 7.8104e-06 - val_accuracy: 1.0000\n",
      "Epoch 62/100\n",
      "3579/3579 [==============================] - 0s 10us/sample - loss: 7.6650e-06 - accuracy: 1.0000 - val_loss: 7.5147e-06 - val_accuracy: 1.0000\n",
      "Epoch 63/100\n",
      "3579/3579 [==============================] - 0s 11us/sample - loss: 7.3612e-06 - accuracy: 1.0000 - val_loss: 7.2144e-06 - val_accuracy: 1.0000\n",
      "Epoch 64/100\n",
      "3579/3579 [==============================] - 0s 10us/sample - loss: 7.0744e-06 - accuracy: 1.0000 - val_loss: 6.9186e-06 - val_accuracy: 1.0000\n",
      "Epoch 65/100\n",
      "3579/3579 [==============================] - 0s 12us/sample - loss: 6.8006e-06 - accuracy: 1.0000 - val_loss: 6.6802e-06 - val_accuracy: 1.0000\n",
      "Epoch 66/100\n",
      "3579/3579 [==============================] - 0s 12us/sample - loss: 6.5440e-06 - accuracy: 1.0000 - val_loss: 6.4418e-06 - val_accuracy: 1.0000\n",
      "Epoch 67/100\n",
      "3579/3579 [==============================] - 0s 10us/sample - loss: 6.2975e-06 - accuracy: 1.0000 - val_loss: 6.2034e-06 - val_accuracy: 1.0000\n",
      "Epoch 68/100\n",
      "3579/3579 [==============================] - 0s 11us/sample - loss: 6.0622e-06 - accuracy: 1.0000 - val_loss: 5.9650e-06 - val_accuracy: 1.0000\n",
      "Epoch 69/100\n",
      "3579/3579 [==============================] - 0s 11us/sample - loss: 5.8416e-06 - accuracy: 1.0000 - val_loss: 5.7266e-06 - val_accuracy: 1.0000\n",
      "Epoch 70/100\n",
      "3579/3579 [==============================] - 0s 10us/sample - loss: 5.6314e-06 - accuracy: 1.0000 - val_loss: 5.4881e-06 - val_accuracy: 1.0000\n",
      "Epoch 71/100\n",
      "3579/3579 [==============================] - 0s 11us/sample - loss: 5.4260e-06 - accuracy: 1.0000 - val_loss: 5.3689e-06 - val_accuracy: 1.0000\n",
      "Epoch 72/100\n",
      "3579/3579 [==============================] - 0s 10us/sample - loss: 5.2306e-06 - accuracy: 1.0000 - val_loss: 5.1305e-06 - val_accuracy: 1.0000\n",
      "Epoch 73/100\n",
      "3579/3579 [==============================] - 0s 11us/sample - loss: 5.0532e-06 - accuracy: 1.0000 - val_loss: 5.0113e-06 - val_accuracy: 1.0000\n",
      "Epoch 74/100\n",
      "3579/3579 [==============================] - 0s 12us/sample - loss: 4.8700e-06 - accuracy: 1.0000 - val_loss: 4.7729e-06 - val_accuracy: 1.0000\n",
      "Epoch 75/100\n",
      "3579/3579 [==============================] - 0s 11us/sample - loss: 4.7075e-06 - accuracy: 1.0000 - val_loss: 4.6537e-06 - val_accuracy: 1.0000\n",
      "Epoch 76/100\n",
      "3579/3579 [==============================] - 0s 11us/sample - loss: 4.5538e-06 - accuracy: 1.0000 - val_loss: 4.4153e-06 - val_accuracy: 1.0000\n",
      "Epoch 77/100\n",
      "3579/3579 [==============================] - 0s 11us/sample - loss: 4.3831e-06 - accuracy: 1.0000 - val_loss: 4.2961e-06 - val_accuracy: 1.0000\n",
      "Epoch 78/100\n",
      "3579/3579 [==============================] - 0s 11us/sample - loss: 4.2405e-06 - accuracy: 1.0000 - val_loss: 4.1769e-06 - val_accuracy: 1.0000\n",
      "Epoch 79/100\n",
      "3579/3579 [==============================] - 0s 10us/sample - loss: 4.1046e-06 - accuracy: 1.0000 - val_loss: 4.0576e-06 - val_accuracy: 1.0000\n",
      "Epoch 80/100\n",
      "3579/3579 [==============================] - 0s 12us/sample - loss: 3.9704e-06 - accuracy: 1.0000 - val_loss: 3.9384e-06 - val_accuracy: 1.0000\n",
      "Epoch 81/100\n",
      "3579/3579 [==============================] - 0s 12us/sample - loss: 3.8412e-06 - accuracy: 1.0000 - val_loss: 3.8192e-06 - val_accuracy: 1.0000\n",
      "Epoch 82/100\n",
      "3579/3579 [==============================] - 0s 11us/sample - loss: 3.7153e-06 - accuracy: 1.0000 - val_loss: 3.7000e-06 - val_accuracy: 1.0000\n",
      "Epoch 83/100\n",
      "3579/3579 [==============================] - 0s 11us/sample - loss: 3.5944e-06 - accuracy: 1.0000 - val_loss: 3.5808e-06 - val_accuracy: 1.0000\n",
      "Epoch 84/100\n",
      "3579/3579 [==============================] - 0s 12us/sample - loss: 3.4786e-06 - accuracy: 1.0000 - val_loss: 3.4616e-06 - val_accuracy: 1.0000\n",
      "Epoch 85/100\n",
      "3579/3579 [==============================] - 0s 11us/sample - loss: 3.3694e-06 - accuracy: 1.0000 - val_loss: 3.3424e-06 - val_accuracy: 1.0000\n",
      "Epoch 86/100\n",
      "3579/3579 [==============================] - 0s 12us/sample - loss: 3.2634e-06 - accuracy: 1.0000 - val_loss: 3.2232e-06 - val_accuracy: 1.0000\n",
      "Epoch 87/100\n",
      "3579/3579 [==============================] - 0s 12us/sample - loss: 3.1662e-06 - accuracy: 1.0000 - val_loss: 3.1040e-06 - val_accuracy: 1.0000\n",
      "Epoch 88/100\n",
      "3579/3579 [==============================] - 0s 12us/sample - loss: 3.0747e-06 - accuracy: 1.0000 - val_loss: 2.9848e-06 - val_accuracy: 1.0000\n",
      "Epoch 89/100\n",
      "3579/3579 [==============================] - 0s 12us/sample - loss: 2.9801e-06 - accuracy: 1.0000 - val_loss: 2.9229e-06 - val_accuracy: 1.0000\n",
      "Epoch 90/100\n",
      "3579/3579 [==============================] - 0s 12us/sample - loss: 2.8716e-06 - accuracy: 1.0000 - val_loss: 2.8656e-06 - val_accuracy: 1.0000\n",
      "Epoch 91/100\n",
      "3579/3579 [==============================] - 0s 12us/sample - loss: 2.7966e-06 - accuracy: 1.0000 - val_loss: 2.7463e-06 - val_accuracy: 1.0000\n",
      "Epoch 92/100\n",
      "3579/3579 [==============================] - 0s 11us/sample - loss: 2.7265e-06 - accuracy: 1.0000 - val_loss: 2.6845e-06 - val_accuracy: 1.0000\n",
      "Epoch 93/100\n",
      "3579/3579 [==============================] - 0s 12us/sample - loss: 2.6241e-06 - accuracy: 1.0000 - val_loss: 2.6271e-06 - val_accuracy: 1.0000\n",
      "Epoch 94/100\n",
      "3579/3579 [==============================] - 0s 11us/sample - loss: 2.5519e-06 - accuracy: 1.0000 - val_loss: 2.5079e-06 - val_accuracy: 1.0000\n",
      "Epoch 95/100\n",
      "3579/3579 [==============================] - 0s 12us/sample - loss: 2.4900e-06 - accuracy: 1.0000 - val_loss: 2.4461e-06 - val_accuracy: 1.0000\n",
      "Epoch 96/100\n",
      "3579/3579 [==============================] - 0s 11us/sample - loss: 2.3990e-06 - accuracy: 1.0000 - val_loss: 2.3887e-06 - val_accuracy: 1.0000\n",
      "Epoch 97/100\n",
      "3579/3579 [==============================] - 0s 11us/sample - loss: 2.3490e-06 - accuracy: 1.0000 - val_loss: 2.2695e-06 - val_accuracy: 1.0000\n",
      "Epoch 98/100\n",
      "3579/3579 [==============================] - 0s 11us/sample - loss: 2.2648e-06 - accuracy: 1.0000 - val_loss: 2.2695e-06 - val_accuracy: 1.0000\n",
      "Epoch 99/100\n",
      "3579/3579 [==============================] - 0s 12us/sample - loss: 2.2077e-06 - accuracy: 1.0000 - val_loss: 2.1503e-06 - val_accuracy: 1.0000\n",
      "Epoch 100/100\n",
      "3579/3579 [==============================] - 0s 13us/sample - loss: 2.1456e-06 - accuracy: 1.0000 - val_loss: 2.1503e-06 - val_accuracy: 1.0000\n"
     ]
    },
    {
     "data": {
      "text/plain": [
       "<tensorflow.python.keras.callbacks.History at 0x7f865402ac10>"
      ]
     },
     "execution_count": 56,
     "metadata": {},
     "output_type": "execute_result"
    }
   ],
   "source": [
    "model.fit(train_inputs, train_targets, batch_size = 100, epochs = 100,\n",
    "         validation_data = (val_inputs, val_targets))"
   ]
  },
  {
   "cell_type": "code",
   "execution_count": null,
   "metadata": {},
   "outputs": [],
   "source": []
  },
  {
   "cell_type": "code",
   "execution_count": null,
   "metadata": {},
   "outputs": [],
   "source": []
  },
  {
   "cell_type": "code",
   "execution_count": null,
   "metadata": {},
   "outputs": [],
   "source": []
  },
  {
   "cell_type": "code",
   "execution_count": null,
   "metadata": {},
   "outputs": [],
   "source": []
  },
  {
   "cell_type": "code",
   "execution_count": null,
   "metadata": {},
   "outputs": [],
   "source": []
  },
  {
   "cell_type": "code",
   "execution_count": null,
   "metadata": {},
   "outputs": [],
   "source": []
  }
 ],
 "metadata": {
  "kernelspec": {
   "display_name": "Python 3",
   "language": "python",
   "name": "python3"
  },
  "language_info": {
   "codemirror_mode": {
    "name": "ipython",
    "version": 3
   },
   "file_extension": ".py",
   "mimetype": "text/x-python",
   "name": "python",
   "nbconvert_exporter": "python",
   "pygments_lexer": "ipython3",
   "version": "3.7.4"
  }
 },
 "nbformat": 4,
 "nbformat_minor": 2
}
